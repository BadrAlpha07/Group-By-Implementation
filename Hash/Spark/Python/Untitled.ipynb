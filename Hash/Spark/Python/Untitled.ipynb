{
 "cells": [
  {
   "cell_type": "code",
   "execution_count": 1,
   "metadata": {},
   "outputs": [
    {
     "data": {
      "text/plain": [
       "'2.3.0'"
      ]
     },
     "execution_count": 1,
     "metadata": {},
     "output_type": "execute_result"
    }
   ],
   "source": [
    "spark.version"
   ]
  },
  {
   "cell_type": "code",
   "execution_count": 31,
   "metadata": {},
   "outputs": [],
   "source": [
    "import numpy as np\n",
    "import murmurhash as mmh"
   ]
  },
  {
   "cell_type": "code",
   "execution_count": 5,
   "metadata": {},
   "outputs": [],
   "source": [
    "from pyspark import SparkContext, SparkConf\n",
    "from pyspark.sql.types import StructType,StructField, StringType\n",
    "from collections import defaultdict"
   ]
  },
  {
   "cell_type": "code",
   "execution_count": 34,
   "metadata": {},
   "outputs": [],
   "source": [
    "sc.stop()"
   ]
  },
  {
   "cell_type": "code",
   "execution_count": 35,
   "metadata": {},
   "outputs": [],
   "source": [
    "conf = SparkConf().setAppName('testGroupBy').setMaster('local[*]')\n",
    "sc = SparkContext(conf=conf)"
   ]
  },
  {
   "cell_type": "code",
   "execution_count": 36,
   "metadata": {},
   "outputs": [
    {
     "data": {
      "text/plain": [
       "test.txt MapPartitionsRDD[1] at textFile at NativeMethodAccessorImpl.java:0"
      ]
     },
     "execution_count": 36,
     "metadata": {},
     "output_type": "execute_result"
    }
   ],
   "source": [
    "sc.textFile('test.txt')"
   ]
  },
  {
   "cell_type": "code",
   "execution_count": 37,
   "metadata": {},
   "outputs": [],
   "source": [
    "file = sc.textFile('data_test1.csv').map(lambda line: line.split(\";\")) \\\n",
    "    .filter(lambda line: len(line)>1)\\\n",
    "    .filter(lambda line:not line[0]=='id')\\\n",
    "    .map(lambda line: line + [hash(line[1])%10])"
   ]
  },
  {
   "cell_type": "code",
   "execution_count": null,
   "metadata": {},
   "outputs": [],
   "source": [
    "file.collect()"
   ]
  },
  {
   "cell_type": "code",
   "execution_count": 71,
   "metadata": {},
   "outputs": [],
   "source": [
    "\n",
    "def groupByHash(file, by, agg, agg_on,early_agg = True):\n",
    "    def hashPartition(iterator):\n",
    "        buckets = defaultdict(list)\n",
    "        if early_agg:\n",
    "            for obj in iterator:\n",
    "                if obj[by] in buckets:\n",
    "                    if agg == 'count':\n",
    "                        buckets[obj[by]] += 1 \n",
    "                    if agg == 'sum':\n",
    "                        buckets[obj[by]] += float(obj[agg_on])\n",
    "                    if agg =='max':\n",
    "                        buckets[obj[by]] = max(buckets[obj[by]],float(obj[agg_on]))\n",
    "                else:\n",
    "                    if agg == 'count':\n",
    "                        buckets[obj[by]] = 1 \n",
    "                    if agg == 'sum':\n",
    "                        buckets[obj[by]] = float(obj[agg_on])\n",
    "                    if agg =='max':\n",
    "                        buckets[obj[by]] = float(obj[agg_on])\n",
    "\n",
    "\n",
    "        \n",
    "        if not early_agg:\n",
    "            for obj in iterator:\n",
    "                buckets[obj[by]] += [obj[agg_on]]\n",
    "            for k,v in buckets.items():\n",
    "                if agg == 'count':\n",
    "                    buckets[k] = len(v)\n",
    "                if agg == 'sum':\n",
    "                    buckets[k] = np.sum(np.array(v,dtype=np.float32))\n",
    "                if agg =='max':\n",
    "                    buckets[k] = np.max(np.array(v,dtype=np.float32))        \n",
    "        yield buckets\n",
    "\n",
    "\n",
    "    def merge(m1, m2):\n",
    "        for k, v in m2.items():\n",
    "            m1[k] += v\n",
    "        return m1\n",
    "\n",
    "    return file.mapPartitions(hashPartition).reduce(merge)\n",
    "\n",
    "    "
   ]
  },
  {
   "cell_type": "code",
   "execution_count": 72,
   "metadata": {},
   "outputs": [
    {
     "data": {
      "text/plain": [
       "defaultdict(list,\n",
       "            {'Student': 132.7,\n",
       "             'Admin': 128.8,\n",
       "             'Teacher': 124.9,\n",
       "             'Lecturer': 135.5})"
      ]
     },
     "execution_count": 72,
     "metadata": {},
     "output_type": "execute_result"
    }
   ],
   "source": [
    "groupByHash(file,1,'max',3,early_agg=True)"
   ]
  },
  {
   "cell_type": "code",
   "execution_count": null,
   "metadata": {},
   "outputs": [],
   "source": []
  },
  {
   "cell_type": "code",
   "execution_count": null,
   "metadata": {},
   "outputs": [],
   "source": []
  }
 ],
 "metadata": {
  "kernelspec": {
   "display_name": "Python 3",
   "language": "python",
   "name": "python3"
  },
  "language_info": {
   "codemirror_mode": {
    "name": "ipython",
    "version": 3
   },
   "file_extension": ".py",
   "mimetype": "text/x-python",
   "name": "python",
   "nbconvert_exporter": "python",
   "pygments_lexer": "ipython3",
   "version": "3.7.6"
  }
 },
 "nbformat": 4,
 "nbformat_minor": 4
}
