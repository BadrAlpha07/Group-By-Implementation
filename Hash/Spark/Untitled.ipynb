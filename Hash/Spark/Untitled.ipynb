{
 "cells": [
  {
   "cell_type": "code",
   "execution_count": 3,
   "metadata": {},
   "outputs": [
    {
     "data": {
      "text/plain": [
       "'2.3.0'"
      ]
     },
     "execution_count": 3,
     "metadata": {},
     "output_type": "execute_result"
    }
   ],
   "source": [
    "spark.version"
   ]
  },
  {
   "cell_type": "code",
   "execution_count": 31,
   "metadata": {},
   "outputs": [],
   "source": [
    "import numpy as np\n",
    "import murmurhash as mmh"
   ]
  },
  {
   "cell_type": "code",
   "execution_count": 5,
   "metadata": {},
   "outputs": [],
   "source": [
    "from pyspark import SparkContext, SparkConf\n",
    "from pyspark.sql.types import StructType,StructField, StringType\n",
    "from collections import defaultdict"
   ]
  },
  {
   "cell_type": "code",
   "execution_count": 34,
   "metadata": {},
   "outputs": [],
   "source": [
    "sc.stop()"
   ]
  },
  {
   "cell_type": "code",
   "execution_count": 35,
   "metadata": {},
   "outputs": [],
   "source": [
    "conf = SparkConf().setAppName('testGroupBy').setMaster('local[*]')\n",
    "sc = SparkContext(conf=conf)"
   ]
  },
  {
   "cell_type": "code",
   "execution_count": 36,
   "metadata": {},
   "outputs": [
    {
     "data": {
      "text/plain": [
       "test.txt MapPartitionsRDD[1] at textFile at NativeMethodAccessorImpl.java:0"
      ]
     },
     "execution_count": 36,
     "metadata": {},
     "output_type": "execute_result"
    }
   ],
   "source": [
    "sc.textFile('test.txt')"
   ]
  },
  {
   "cell_type": "code",
   "execution_count": 37,
   "metadata": {},
   "outputs": [],
   "source": [
    "file = sc.textFile('data_test1.csv').map(lambda line: line.split(\";\")) \\\n",
    "    .filter(lambda line: len(line)>1)\\\n",
    "    .filter(lambda line:not line[0]=='id')\\\n",
    "    .map(lambda line: line + [hash(line[1])%10])"
   ]
  },
  {
   "cell_type": "code",
   "execution_count": 46,
   "metadata": {},
   "outputs": [
    {
     "data": {
      "text/plain": [
       "[['1', 'Student', 'Nora', '56.0', 4],\n",
       " ['2', 'Admin', 'Lorinda', '58.5', 2],\n",
       " ['3', 'Teacher', 'Nellie', '57.1', 1],\n",
       " ['4', 'Student', 'Eugene', '59.3', 4],\n",
       " ['5', 'Teacher', 'John', '61.5', 1],\n",
       " ['6', 'Teacher', 'Mary', '57.8', 1],\n",
       " ['7', 'Student', 'Gabriela', '58.7', 4],\n",
       " ['8', 'Student', 'Robert', '59.2', 4],\n",
       " ['9', 'Lecturer', 'Mary', '62.8', 6],\n",
       " ['10', 'Lecturer', 'Charlotte', '64.4', 6],\n",
       " ['11', 'Teacher', 'Jose', '60.4', 1],\n",
       " ['12', 'Student', 'Bobby', '62.9', 4],\n",
       " ['13', 'Student', 'Ruben', '61.0', 4],\n",
       " ['14', 'Student', 'Fred', '62.5', 4],\n",
       " ['15', 'Lecturer', 'Raymond', '60.6', 6],\n",
       " ['16', 'Student', 'Jose', '55.4', 4],\n",
       " ['17', 'Admin', 'Tiffany', '57.7', 2],\n",
       " ['18', 'Student', 'Rosemary', '57.6', 4],\n",
       " ['19', 'Student', 'Violeta', '57.3', 4],\n",
       " ['20', 'Student', 'Leslie', '57.5', 4],\n",
       " ['21', 'Lecturer', 'Ty', '56.8', 6],\n",
       " ['22', 'Student', 'Maria', '56.2', 4],\n",
       " ['23', 'Admin', 'Robert', '61.5', 2],\n",
       " ['24', 'Admin', 'Tammy', '61.9', 2],\n",
       " ['25', 'Teacher', 'Micheal', '61.4', 1],\n",
       " ['26', 'Teacher', 'Miranda', '66.0', 1],\n",
       " ['27', 'Student', 'Peter', '58.8', 4],\n",
       " ['28', 'Student', 'Emily', '60.0', 4],\n",
       " ['29', 'Student', 'Brian', '54.7', 4],\n",
       " ['30', 'Student', 'James', '63.4', 4],\n",
       " ['31', 'Student', 'Forest', '58.4', 4],\n",
       " ['32', 'Student', 'Laura', '57.4', 4],\n",
       " ['33', 'Admin', 'Charlene', '64.1', 2],\n",
       " ['34', 'Admin', 'Catherine', '59.5', 2],\n",
       " ['35', 'Student', 'Lula', '63.7', 4],\n",
       " ['36', 'Teacher', 'Jerry', '57.1', 1],\n",
       " ['37', 'Student', 'Frances', '61.7', 4],\n",
       " ['38', 'Lecturer', 'Jeremy', '53.2', 6],\n",
       " ['39', 'Student', 'Joann', '61.9', 4],\n",
       " ['40', 'Student', 'Anna', '61.4', 4],\n",
       " ['41', 'Student', 'Danny', '62.1', 4],\n",
       " ['42', 'Teacher', 'Roberta', '62.6', 1],\n",
       " ['43', 'Teacher', 'Pamela', '55.8', 1],\n",
       " ['44', 'Lecturer', 'Helen', '65.2', 6],\n",
       " ['45', 'Teacher', 'Richard', '53.2', 1],\n",
       " ['46', 'Student', 'David', '61.9', 4],\n",
       " ['47', 'Teacher', 'Robert', '66.4', 1],\n",
       " ['48', 'Student', 'David', '65.4', 4],\n",
       " ['49', 'Student', 'Walter', '59.9', 4],\n",
       " ['50', 'Student', 'Maria', '59.1', 4],\n",
       " ['51', 'Admin', 'Jody', '58.9', 2],\n",
       " ['52', 'Teacher', 'Gene', '55.2', 1],\n",
       " ['53', 'Student', 'Edna', '59.4', 4],\n",
       " ['54', 'Admin', 'Granville', '64.7', 2],\n",
       " ['55', 'Teacher', 'William', '56.1', 1],\n",
       " ['56', 'Lecturer', 'Pauline', '62.8', 6],\n",
       " ['57', 'Student', 'Kenneth', '56.1', 4],\n",
       " ['58', 'Student', 'Linda', '63.3', 4],\n",
       " ['59', 'Teacher', 'Ouida', '57.6', 1],\n",
       " ['60', 'Student', 'Jerome', '57.2', 4],\n",
       " ['61', 'Lecturer', 'Louise', '57.8', 6],\n",
       " ['62', 'Student', 'Ruth', '59.5', 4],\n",
       " ['63', 'Lecturer', 'Joseph', '59.0', 6],\n",
       " ['64', 'Student', 'Lori', '49.3', 4],\n",
       " ['65', 'Student', 'Darlene', '60.4', 4],\n",
       " ['66', 'Student', 'Connie', '58.7', 4],\n",
       " ['67', 'Admin', 'Donald', '59.6', 2],\n",
       " ['68', 'Student', 'Annie', '53.7', 4],\n",
       " ['69', 'Student', 'Jeffrey', '60.6', 4],\n",
       " ['70', 'Lecturer', 'Roxanne', '70.3', 6],\n",
       " ['71', 'Teacher', 'Clint', '57.6', 1],\n",
       " ['72', 'Student', 'Tammy', '61.0', 4],\n",
       " ['73', 'Student', 'Allan', '65.5', 4],\n",
       " ['74', 'Student', 'Crystal', '62.0', 4],\n",
       " ['75', 'Student', 'Ted', '62.5', 4],\n",
       " ['76', 'Admin', 'Andrew', '64.4', 2],\n",
       " ['77', 'Student', 'Scott', '59.5', 4],\n",
       " ['78', 'Student', 'Daniel', '60.4', 4],\n",
       " ['79', 'Student', 'Dora', '58.8', 4],\n",
       " ['80', 'Student', 'Dennis', '62.8', 4],\n",
       " ['81', 'Student', 'Michael', '58.4', 4],\n",
       " ['82', 'Student', 'Jewel', '61.7', 4],\n",
       " ['83', 'Student', 'Darryl', '62.1', 4],\n",
       " ['84', 'Student', 'Anthony', '53.7', 4],\n",
       " ['85', 'Student', 'Jeanne', '63.1', 4],\n",
       " ['86', 'Student', 'Roland', '66.0', 4],\n",
       " ['87', 'Student', 'Carlene', '67.3', 4],\n",
       " ['88', 'Admin', 'William', '51.9', 2],\n",
       " ['89', 'Student', 'Cristina', '61.1', 4],\n",
       " ['90', 'Student', 'Maria', '59.4', 4],\n",
       " ['91', 'Student', 'Carol', '54.3', 4],\n",
       " ['92', 'Lecturer', 'Heather', '63.5', 6],\n",
       " ['93', 'Teacher', 'Janette', '58.5', 1],\n",
       " ['94', 'Student', 'Anna', '59.0', 4],\n",
       " ['95', 'Student', 'Noah', '55.8', 4],\n",
       " ['96', 'Student', 'Eva', '63.2', 4],\n",
       " ['97', 'Lecturer', 'Lisa', '56.2', 6],\n",
       " ['98', 'Student', 'Debra', '61.4', 4],\n",
       " ['99', 'Student', 'Arnold', '61.5', 4],\n",
       " ['100', 'Student', 'Lois', '58.2', 4]]"
      ]
     },
     "execution_count": 46,
     "metadata": {},
     "output_type": "execute_result"
    }
   ],
   "source": [
    "file.collect()"
   ]
  },
  {
   "cell_type": "code",
   "execution_count": 71,
   "metadata": {},
   "outputs": [],
   "source": [
    "\n",
    "def groupByHash(file, by, agg, agg_on,early_agg = True):\n",
    "    def hashPartition(iterator):\n",
    "        buckets = defaultdict(list)\n",
    "        if early_agg:\n",
    "            for obj in iterator:\n",
    "                if obj[by] in buckets:\n",
    "                    if agg == 'count':\n",
    "                        buckets[obj[by]] += 1 \n",
    "                    if agg == 'sum':\n",
    "                        buckets[obj[by]] += float(obj[agg_on])\n",
    "                    if agg =='max':\n",
    "                        buckets[obj[by]] = max(buckets[obj[by]],float(obj[agg_on]))\n",
    "                else:\n",
    "                    if agg == 'count':\n",
    "                        buckets[obj[by]] = 1 \n",
    "                    if agg == 'sum':\n",
    "                        buckets[obj[by]] = float(obj[agg_on])\n",
    "                    if agg =='max':\n",
    "                        buckets[obj[by]] = float(obj[agg_on])\n",
    "\n",
    "\n",
    "        \n",
    "        if not early_agg:\n",
    "            for obj in iterator:\n",
    "                buckets[obj[by]] += [obj[agg_on]]\n",
    "            for k,v in buckets.items():\n",
    "                if agg == 'count':\n",
    "                    buckets[k] = len(v)\n",
    "                if agg == 'sum':\n",
    "                    buckets[k] = np.sum(np.array(v,dtype=np.float32))\n",
    "                if agg =='max':\n",
    "                    buckets[k] = np.max(np.array(v,dtype=np.float32))        \n",
    "        yield buckets\n",
    "\n",
    "\n",
    "    def merge(m1, m2):\n",
    "        for k, v in m2.items():\n",
    "            m1[k] += v\n",
    "        return m1\n",
    "\n",
    "    return file.mapPartitions(hashPartition).reduce(merge)\n",
    "\n",
    "    "
   ]
  },
  {
   "cell_type": "code",
   "execution_count": 72,
   "metadata": {},
   "outputs": [
    {
     "data": {
      "text/plain": [
       "defaultdict(list,\n",
       "            {'Student': 132.7,\n",
       "             'Admin': 128.8,\n",
       "             'Teacher': 124.9,\n",
       "             'Lecturer': 135.5})"
      ]
     },
     "execution_count": 72,
     "metadata": {},
     "output_type": "execute_result"
    }
   ],
   "source": [
    "groupByHash(file,1,'max',3,early_agg=True)"
   ]
  },
  {
   "cell_type": "code",
   "execution_count": null,
   "metadata": {},
   "outputs": [],
   "source": []
  },
  {
   "cell_type": "code",
   "execution_count": null,
   "metadata": {},
   "outputs": [],
   "source": []
  }
 ],
 "metadata": {
  "kernelspec": {
   "display_name": "Python 3",
   "language": "python",
   "name": "python3"
  },
  "language_info": {
   "codemirror_mode": {
    "name": "ipython",
    "version": 3
   },
   "file_extension": ".py",
   "mimetype": "text/x-python",
   "name": "python",
   "nbconvert_exporter": "python",
   "pygments_lexer": "ipython3",
   "version": "3.7.9"
  }
 },
 "nbformat": 4,
 "nbformat_minor": 4
}
